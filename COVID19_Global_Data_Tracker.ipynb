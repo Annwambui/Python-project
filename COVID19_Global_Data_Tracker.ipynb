{
 "cells": [
  {
   "cell_type": "markdown",
   "id": "14959c20",
   "metadata": {},
   "source": [
    "# COVID-19 Global Data Tracker\n",
    "\n",
    "This notebook analyzes global COVID-19 trends including cases, deaths, recoveries, and vaccinations using the [Our World in Data COVID-19 dataset](https://github.com/owid/covid-19-data/tree/master/public/data).\n",
    "\n",
    "## Objectives\n",
    "- Import and clean COVID-19 data\n",
    "- Analyze time trends for cases, deaths, vaccinations\n",
    "- Compare metrics across countries\n",
    "- Visualize data using charts and maps\n",
    "- Summarize findings\n"
   ]
  },
  {
   "cell_type": "code",
   "execution_count": null,
   "id": "0ae9c737",
   "metadata": {},
   "outputs": [],
   "source": [
    "# Import libraries\n",
    "import pandas as pd\n",
    "import matplotlib.pyplot as plt\n",
    "import seaborn as sns\n",
    "import plotly.express as px\n",
    "import warnings\n",
    "warnings.filterwarnings('ignore')\n"
   ]
  },
  {
   "cell_type": "markdown",
   "id": "635c0896",
   "metadata": {},
   "source": [
    "## Load and Explore Dataset"
   ]
  },
  {
   "cell_type": "code",
   "execution_count": null,
   "id": "43e9551c",
   "metadata": {},
   "outputs": [],
   "source": [
    "# Load the dataset\n",
    "df = pd.read_csv('owid-covid-data.csv')\n",
    "df.head()"
   ]
  },
  {
   "cell_type": "code",
   "execution_count": null,
   "id": "1e9016f7",
   "metadata": {},
   "outputs": [],
   "source": [
    "# Check data info and missing values\n",
    "df.info()\n",
    "df.isnull().sum().sort_values(ascending=False).head(10)"
   ]
  },
  {
   "cell_type": "markdown",
   "id": "12f0c39e",
   "metadata": {},
   "source": [
    "## Data Cleaning"
   ]
  },
  {
   "cell_type": "code",
   "execution_count": null,
   "id": "998106b1",
   "metadata": {},
   "outputs": [],
   "source": [
    "# Convert date to datetime\n",
    "df['date'] = pd.to_datetime(df['date'])\n",
    "\n",
    "# Filter selected countries\n",
    "countries = ['Kenya', 'India', 'United States']\n",
    "df_filtered = df[df['location'].isin(countries)]\n",
    "\n",
    "# Fill missing numeric values\n",
    "df_filtered.fillna(method='ffill', inplace=True)\n",
    "df_filtered.head()"
   ]
  },
  {
   "cell_type": "markdown",
   "id": "68dc6f88",
   "metadata": {},
   "source": [
    "## Exploratory Data Analysis (EDA)"
   ]
  },
  {
   "cell_type": "code",
   "execution_count": null,
   "id": "1bd7ea2c",
   "metadata": {},
   "outputs": [],
   "source": [
    "# Plot total cases over time\n",
    "plt.figure(figsize=(10,6))\n",
    "for country in countries:\n",
    "    country_df = df_filtered[df_filtered['location'] == country]\n",
    "    plt.plot(country_df['date'], country_df['total_cases'], label=country)\n",
    "plt.title('Total COVID-19 Cases Over Time')\n",
    "plt.xlabel('Date')\n",
    "plt.ylabel('Total Cases')\n",
    "plt.legend()\n",
    "plt.show()"
   ]
  },
  {
   "cell_type": "code",
   "execution_count": null,
   "id": "23b3fb96",
   "metadata": {},
   "outputs": [],
   "source": [
    "# Compare daily new cases\n",
    "sns.lineplot(data=df_filtered, x='date', y='new_cases', hue='location')\n",
    "plt.title('Daily New COVID-19 Cases')\n",
    "plt.show()"
   ]
  },
  {
   "cell_type": "markdown",
   "id": "c4140e5d",
   "metadata": {},
   "source": [
    "## Vaccination Progress"
   ]
  },
  {
   "cell_type": "code",
   "execution_count": null,
   "id": "6ebbe6ea",
   "metadata": {},
   "outputs": [],
   "source": [
    "# Plot vaccinations over time\n",
    "plt.figure(figsize=(10,6))\n",
    "for country in countries:\n",
    "    country_df = df_filtered[df_filtered['location'] == country]\n",
    "    plt.plot(country_df['date'], country_df['total_vaccinations'], label=country)\n",
    "plt.title('Total Vaccinations Over Time')\n",
    "plt.xlabel('Date')\n",
    "plt.ylabel('Vaccinations')\n",
    "plt.legend()\n",
    "plt.show()"
   ]
  },
  {
   "cell_type": "markdown",
   "id": "10bb3e41",
   "metadata": {},
   "source": [
    "## Insights & Observations\n",
    "\n",
    "- insights = [\n",
    "    \"1. The USA had the highest total number of cases, followed by India.\",\n",
    "    \"2. Kenya has experienced fewer total cases compared to the USA and India, but new cases have fluctuated widely.\",\n",
    "    \"3. The USA had a faster vaccine rollout compared to Kenya and India in early 2021.\",\n",
    "    \"4. Death rates in the USA have been higher compared to India and Kenya, reflecting different healthcare systems and virus management.\"\n",
    "]\n",
    "\n",
    "for insight in insights:\n",
    "    print(insight)\n",
    "\n",
    "\n"
   ]
  }
 ],
 "metadata": {
  "kernelspec": {
   "display_name": "Python 3",
   "language": "python",
   "name": "python3"
  },
  "language_info": {
   "name": "python",
   "version": "3.11"
  }
 },
 "nbformat": 4,
 "nbformat_minor": 5
}
